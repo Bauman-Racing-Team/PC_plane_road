{
  "nbformat": 4,
  "nbformat_minor": 0,
  "metadata": {
    "colab": {
      "name": "SVD.ipynb",
      "provenance": []
    },
    "kernelspec": {
      "name": "python3",
      "display_name": "Python 3"
    }
  },
  "cells": [
    {
      "cell_type": "code",
      "metadata": {
        "id": "LgJNS7ehRJlT",
        "colab_type": "code",
        "colab": {
          "base_uri": "https://localhost:8080/",
          "height": 34
        },
        "outputId": "09e524a0-bf22-4619-bfd8-419044bb2b72"
      },
      "source": [
        "import random\n",
        "import numpy as np\n",
        "from datetime import datetime\n",
        "import time\n",
        "\n",
        "best_ic = 0  # best inliers number\n",
        "best_model = None  # best array of (a, b, c, d)\n",
        "\n",
        "def augment(xyzs):\n",
        "    axyz = np.ones((len(xyzs), 4))\n",
        "    axyz[:, :3] = xyzs\n",
        "    return axyz\n",
        "\n",
        "start_time = datetime.now()\n",
        "\n",
        "\n",
        "print(datetime.now() - start_time)"
      ],
      "execution_count": 33,
      "outputs": [
        {
          "output_type": "stream",
          "text": [
            "0:00:00.000037\n"
          ],
          "name": "stdout"
        }
      ]
    },
    {
      "cell_type": "code",
      "metadata": {
        "id": "tu1_C4xBSWAd",
        "colab_type": "code",
        "colab": {
          "base_uri": "https://localhost:8080/",
          "height": 52
        },
        "outputId": "6e45cdd4-fe42-46ef-8d70-b4467bf16942"
      },
      "source": [
        "start_time = datetime.now()\n",
        "\n",
        "# input data\n",
        "inputf = open('input.txt', 'r')\n",
        "outputf = open('output.txt', 'wb')\n",
        "th = float(inputf.readline())  # threshold value\n",
        "n = int(inputf.readline())  # number of points\n",
        "n1 = n*0.5 #50% of poinst number\n",
        "print(datetime.now() - start_time)\n",
        "\n",
        "xyzs = np.loadtxt(inputf) # poins\n",
        "\n",
        "print(datetime.now() - start_time)"
      ],
      "execution_count": 34,
      "outputs": [
        {
          "output_type": "stream",
          "text": [
            "0:00:00.001665\n",
            "0:00:00.194945\n"
          ],
          "name": "stdout"
        }
      ]
    },
    {
      "cell_type": "code",
      "metadata": {
        "id": "rSpMUqtaSc2H",
        "colab_type": "code",
        "colab": {
          "base_uri": "https://localhost:8080/",
          "height": 52
        },
        "outputId": "105718e2-44e7-4f67-b117-ba43ccfc625e"
      },
      "source": [
        "start_time = datetime.now()\n",
        "\n",
        "random.seed(None)\n",
        "\n",
        "print(datetime.now() - start_time)\n",
        "\n",
        "data = list(xyzs)\n",
        "\n",
        "print(datetime.now() - start_time)"
      ],
      "execution_count": 35,
      "outputs": [
        {
          "output_type": "stream",
          "text": [
            "0:00:00.000138\n",
            "0:00:00.010881\n"
          ],
          "name": "stdout"
        }
      ]
    },
    {
      "cell_type": "code",
      "metadata": {
        "id": "F6RudDpZXPPi",
        "colab_type": "code",
        "colab": {
          "base_uri": "https://localhost:8080/",
          "height": 70
        },
        "outputId": "642dece6-cd07-4b70-ac6b-412c91100ea5"
      },
      "source": [
        "xyzs[np.random.choice(xyzs.shape[0], 3)]"
      ],
      "execution_count": 31,
      "outputs": [
        {
          "output_type": "execute_result",
          "data": {
            "text/plain": [
              "array([[ 16.79759 ,  -8.855677,   0.07944 ],\n",
              "       [ -1.246305, -28.796394,  -0.820315],\n",
              "       [-14.356941,   3.950372,  -0.413641]])"
            ]
          },
          "metadata": {
            "tags": []
          },
          "execution_count": 31
        }
      ]
    },
    {
      "cell_type": "code",
      "metadata": {
        "id": "LZS59WJ6SgoP",
        "colab_type": "code",
        "colab": {
          "base_uri": "https://localhost:8080/",
          "height": 34
        },
        "outputId": "4a211d10-db4d-4b31-e8f5-596d023928c6"
      },
      "source": [
        "best_ic = 0  # best inliers number\n",
        "best_model = None  # best array of (a, b, c, d)\n",
        "\n",
        "start_time = datetime.now()\n",
        "\n",
        "\n",
        "while (best_ic) <= n1: #while inliers less or equal to 50% of points number\n",
        "    s = random.sample(data, 3) #random 3 points sampling\n",
        "    axyz = augment(s[:3])\n",
        "    m = np.linalg.svd(axyz)[-1][-1, :]\n",
        "    ic = 0\n",
        "    for j in range(len(data)):\n",
        "        if np.abs(m.dot(augment([data[j]]).T)) < th : # defining if point is inlier\n",
        "            ic += 1\n",
        "\n",
        "    if ic > best_ic:\n",
        "        best_ic = ic\n",
        "        best_model = np.round(m, 6) #6 decimal units\n",
        "\n",
        "print(datetime.now() - start_time)"
      ],
      "execution_count": 92,
      "outputs": [
        {
          "output_type": "stream",
          "text": [
            "0:00:00.161366\n"
          ],
          "name": "stdout"
        }
      ]
    },
    {
      "cell_type": "code",
      "metadata": {
        "id": "D27wC_MnX8g4",
        "colab_type": "code",
        "colab": {
          "base_uri": "https://localhost:8080/",
          "height": 34
        },
        "outputId": "48806307-8b5a-4706-e0c6-cd2c8c1d416e"
      },
      "source": [
        "best_ic = 0  # best inliers number\n",
        "best_model = None  # best array of (a, b, c, d)\n",
        "\n",
        "start_time = datetime.now()\n",
        "\n",
        "\n",
        "while (best_ic) <= n1: #while inliers less or equal to 50% of points number\n",
        "    s = xyzs[np.random.choice(xyzs.shape[0], 3)] #random 3 points sampling\n",
        "    axyz = augment(s[:3])\n",
        "    m = np.linalg.svd(axyz)[-1][-1, :]\n",
        "    ic = 0\n",
        "    for j in range(xyzs.shape[0]):\n",
        "        if np.abs(m.dot(augment([xyzs[j]]).T)) < th : # defining if point is inlier\n",
        "            ic += 1\n",
        "\n",
        "    if ic > best_ic:\n",
        "        best_ic = ic\n",
        "        best_model = np.round(m, 6) #6 decimal units\n",
        "\n",
        "print(datetime.now() - start_time)"
      ],
      "execution_count": 89,
      "outputs": [
        {
          "output_type": "stream",
          "text": [
            "0:00:00.363440\n"
          ],
          "name": "stdout"
        }
      ]
    },
    {
      "cell_type": "code",
      "metadata": {
        "id": "YX6eORdGSjA4",
        "colab_type": "code",
        "colab": {
          "base_uri": "https://localhost:8080/",
          "height": 34
        },
        "outputId": "3bdd13da-3646-44b8-c19f-c70e15485bb4"
      },
      "source": [
        "start_time = datetime.now()\n",
        "\n",
        "np.savetxt(outputf, [best_model], fmt='%f', delimiter=' ', newline='')\n",
        "inputf.close()\n",
        "outputf.close()\n",
        "\n",
        "print(datetime.now() - start_time)"
      ],
      "execution_count": 6,
      "outputs": [
        {
          "output_type": "stream",
          "text": [
            "0:00:00.000638\n"
          ],
          "name": "stdout"
        }
      ]
    }
  ]
}